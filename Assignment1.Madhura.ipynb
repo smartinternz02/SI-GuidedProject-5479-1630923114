{
 "cells": [
  {
   "cell_type": "code",
   "execution_count": 5,
   "id": "676d0806",
   "metadata": {},
   "outputs": [],
   "source": [
    "def swapList(newList):\n",
    "    size = len(newList)\n",
    "     \n",
    "    # Swapping\n",
    "    temp = newList[0]\n",
    "    newList[0] = newList[size - 1]\n",
    "    newList[size - 1] = temp\n",
    "     \n",
    "    return newList"
   ]
  },
  {
   "cell_type": "code",
   "execution_count": 6,
   "id": "5a2cf546",
   "metadata": {},
   "outputs": [
    {
     "name": "stdout",
     "output_type": "stream",
     "text": [
      "[24, 35, 9, 56, 12]\n"
     ]
    }
   ],
   "source": [
    "newList = [12, 35, 9, 56, 24]\n",
    "print(swapList(newList))"
   ]
  },
  {
   "cell_type": "code",
   "execution_count": 7,
   "id": "9d47263a",
   "metadata": {},
   "outputs": [
    {
     "name": "stdout",
     "output_type": "stream",
     "text": [
      "1\n",
      "[2, 3]\n",
      "4\n"
     ]
    }
   ],
   "source": [
    "list = [1, 2, 3, 4]\n",
    "a, *b, c = list\n",
    "print(a)\n",
    "print(b)\n",
    "print(c)"
   ]
  },
  {
   "cell_type": "code",
   "execution_count": 11,
   "id": "d4c67b67",
   "metadata": {},
   "outputs": [
    {
     "name": "stdout",
     "output_type": "stream",
     "text": [
      "[19, 65, 23, 90]\n"
     ]
    }
   ],
   "source": [
    "def swapPositions(list, pos1, pos2):\n",
    "    list[pos1], list[pos2] = list[pos2], list[pos1]\n",
    "    return list\n",
    " # Driver function\n",
    "List = [23, 65, 19, 90]\n",
    "pos1, pos2  = 1, 3\n",
    "print(swapPositions(List, pos1-1, pos2-1))"
   ]
  },
  {
   "cell_type": "code",
   "execution_count": 12,
   "id": "e44318da",
   "metadata": {},
   "outputs": [
    {
     "name": "stdout",
     "output_type": "stream",
     "text": [
      "The length of list is:  4\n"
     ]
    }
   ],
   "source": [
    "a = []\n",
    "a.append(\"Hello\")\n",
    "a.append(\"Geeks\")\n",
    "a.append(\"For\")\n",
    "a.append(\"Geeks\")\n",
    "print(\"The length of list is: \", len(a))"
   ]
  },
  {
   "cell_type": "code",
   "execution_count": 18,
   "id": "b374f68f",
   "metadata": {},
   "outputs": [
    {
     "name": "stdout",
     "output_type": "stream",
     "text": [
      "4\n"
     ]
    }
   ],
   "source": [
    " \n",
    "def maximum(a, b):\n",
    "     \n",
    "    if a >= b:\n",
    "        return a\n",
    "    else:\n",
    "        return b\n",
    "     \n",
    "a = 2\n",
    "b = 4\n",
    "print(maximum(a, b))"
   ]
  },
  {
   "cell_type": "code",
   "execution_count": 19,
   "id": "4b0670ff",
   "metadata": {},
   "outputs": [
    {
     "name": "stdout",
     "output_type": "stream",
     "text": [
      "2\n"
     ]
    }
   ],
   "source": [
    "def minimum(a, b):\n",
    "      \n",
    "    if a <= b:\n",
    "        return a\n",
    "    else:\n",
    "        return b\n",
    "      \n",
    "a = 2\n",
    "b = 4\n",
    "print(minimum(a, b))"
   ]
  },
  {
   "cell_type": "code",
   "execution_count": 20,
   "id": "eea215af",
   "metadata": {},
   "outputs": [
    {
     "name": "stdout",
     "output_type": "stream",
     "text": [
      "learning machine learn lets\n"
     ]
    }
   ],
   "source": [
    "def rev_sentence(sentence): \n",
    "  \n",
    "    words = sentence.split(' ') \n",
    "  \n",
    "    reverse_sentence = ' '.join(reversed(words)) \n",
    "  \n",
    "    return reverse_sentence \n",
    "  \n",
    "if __name__ == \"__main__\": \n",
    "    input = 'lets learn machine learning'\n",
    "    print (rev_sentence(input))"
   ]
  },
  {
   "cell_type": "code",
   "execution_count": 21,
   "id": "1f62a63d",
   "metadata": {},
   "outputs": [
    {
     "name": "stdout",
     "output_type": "stream",
     "text": [
      "am\n",
      "muskan\n"
     ]
    }
   ],
   "source": [
    "def printWords(s):\n",
    "      \n",
    "    s = s.split(' ') \n",
    "      \n",
    "    for word in s: \n",
    "          \n",
    "        if len(word)%2==0:\n",
    "            print(word) \n",
    "  \n",
    "s = \"i am muskan\" \n",
    "printWords(s) "
   ]
  },
  {
   "cell_type": "code",
   "execution_count": 22,
   "id": "9ccbd957",
   "metadata": {},
   "outputs": [
    {
     "name": "stdout",
     "output_type": "stream",
     "text": [
      "[(1, 1), (2, 8), (5, 125), (6, 216)]\n"
     ]
    }
   ],
   "source": [
    "list1 = [1, 2, 5, 6]\n",
    "res = [(val, pow(val, 3)) for val in list1]\n",
    "print(res)"
   ]
  },
  {
   "cell_type": "code",
   "execution_count": 24,
   "id": "ad34cd2c",
   "metadata": {},
   "outputs": [
    {
     "name": "stdout",
     "output_type": "stream",
     "text": [
      "0091\n"
     ]
    }
   ],
   "source": [
    "country_code = {'India' : '0091',\n",
    "                'Australia' : '0025',\n",
    "                'Nepal' : '00977'}\n",
    "print(country_code.get('India', 'Not Found'))"
   ]
  },
  {
   "cell_type": "code",
   "execution_count": 25,
   "id": "2bd11def",
   "metadata": {},
   "outputs": [
    {
     "name": "stdout",
     "output_type": "stream",
     "text": [
      "Not Found\n"
     ]
    }
   ],
   "source": [
    "print(country_code.get('Japan', 'Not Found'))"
   ]
  },
  {
   "cell_type": "code",
   "execution_count": 26,
   "id": "4cf0519d",
   "metadata": {},
   "outputs": [],
   "source": [
    "import random as rn"
   ]
  },
  {
   "cell_type": "code",
   "execution_count": 27,
   "id": "ad2c89ee",
   "metadata": {},
   "outputs": [
    {
     "name": "stdout",
     "output_type": "stream",
     "text": [
      "{(10, 20, 30): 0, (5, 2, 4): 3}\n"
     ]
    }
   ],
   "source": [
    "dict = {}\n",
    "\n",
    "x, y, z = 10, 20, 30\n",
    "dict[x, y, z] = x + y - z;\n",
    "x, y, z = 5, 2, 4\n",
    "dict[x, y, z] = x + y - z;\n",
    "print(dict)"
   ]
  },
  {
   "cell_type": "code",
   "execution_count": 29,
   "id": "a1ab0177",
   "metadata": {},
   "outputs": [
    {
     "name": "stdout",
     "output_type": "stream",
     "text": [
      "Size of Set1: 728bytes\n",
      "Size of Set2: 728bytes\n",
      "Size of Set3: 216bytes\n"
     ]
    }
   ],
   "source": [
    "import sys\n",
    "Set1 = {\"A\", 1, \"B\", 2, \"C\", 3}\n",
    "Set2 = {\"Geek1\", \"Raju\", \"Geek2\", \"Nikhil\", \"Geek3\", \"Deepanshu\"}\n",
    "Set3 = {(1, \"Lion\"), ( 2, \"Tiger\"), (3, \"Fox\")}\n",
    "  \n",
    "# print the sizes of sample Sets\n",
    "print(\"Size of Set1: \" + str(sys.getsizeof(Set1)) + \"bytes\")\n",
    "print(\"Size of Set2: \" + str(sys.getsizeof(Set2)) + \"bytes\")\n",
    "print(\"Size of Set3: \" + str(sys.getsizeof(Set3)) + \"bytes\")"
   ]
  },
  {
   "cell_type": "code",
   "execution_count": 30,
   "id": "18f83751",
   "metadata": {},
   "outputs": [
    {
     "name": "stdout",
     "output_type": "stream",
     "text": [
      "65\n"
     ]
    }
   ],
   "source": [
    "def MAX(sets):\n",
    "    return (max(sets))\n",
    "sets = set([8, 16, 24, 1, 25, 3, 10, 65, 55])\n",
    "print(MAX(sets))"
   ]
  },
  {
   "cell_type": "code",
   "execution_count": 31,
   "id": "cd28f129",
   "metadata": {},
   "outputs": [
    {
     "name": "stdout",
     "output_type": "stream",
     "text": [
      "{9, 10, 12, 13, 15}\n",
      "{10, 12, 13, 15}\n",
      "{12, 13, 15}\n",
      "{13, 15}\n",
      "{15}\n",
      "set()\n"
     ]
    }
   ],
   "source": [
    "def Remove(initial_set):\n",
    "    while initial_set:\n",
    "        initial_set.pop()\n",
    "        print(initial_set)\n",
    "initial_set = set([12, 10, 13, 15, 8, 9])\n",
    "Remove(initial_set)"
   ]
  },
  {
   "cell_type": "code",
   "execution_count": 32,
   "id": "9c52d8b6",
   "metadata": {},
   "outputs": [],
   "source": [
    "import numpy as np"
   ]
  },
  {
   "cell_type": "code",
   "execution_count": 33,
   "id": "0e54d5cb",
   "metadata": {},
   "outputs": [
    {
     "name": "stdout",
     "output_type": "stream",
     "text": [
      "Printing elements of first matrix\n",
      "[[1 2]\n",
      " [3 4]]\n",
      "Printing elements of second matrix\n",
      "[[4 5]\n",
      " [6 7]]\n",
      "Addition of two matrix\n",
      "[[ 5  7]\n",
      " [ 9 11]]\n"
     ]
    }
   ],
   "source": [
    "A = np.array([[1, 2], [3, 4]])\n",
    "B = np.array([[4, 5], [6, 7]])\n",
    "print(\"Printing elements of first matrix\")\n",
    "print(A)\n",
    "print(\"Printing elements of second matrix\")\n",
    "print(B)\n",
    "print(\"Addition of two matrix\")\n",
    "print(np.add(A, B))"
   ]
  },
  {
   "cell_type": "code",
   "execution_count": 34,
   "id": "6b6e9a1a",
   "metadata": {},
   "outputs": [
    {
     "name": "stdout",
     "output_type": "stream",
     "text": [
      "Subtraction of two matrix\n",
      "[[-3 -3]\n",
      " [-3 -3]]\n"
     ]
    }
   ],
   "source": [
    "print(\"Subtraction of two matrix\")\n",
    "print(np.subtract(A, B))"
   ]
  },
  {
   "cell_type": "code",
   "execution_count": 39,
   "id": "30ee45b1",
   "metadata": {},
   "outputs": [
    {
     "name": "stdout",
     "output_type": "stream",
     "text": [
      "1 2 3 4 \n",
      "8 7 6 5 \n",
      "9 10 11 12 \n",
      "16 15 14 13 \n"
     ]
    }
   ],
   "source": [
    "import itertools\n",
    "def sub_mat_even(n):\n",
    "    temp = itertools.count(1)\n",
    "    l = [[next(temp)for i in range(n)]for i in range(n)]\n",
    "    if n%2 == 0:\n",
    "        for i in range(0,len(l)):\n",
    "            if i%2 == 1:\n",
    "                l[i][:] = l[i][::-1]\n",
    "    for i in range(n):\n",
    "        for j in range(n):\n",
    "            print(l[i][j],end=\" \")\n",
    "        print()\n",
    "n = 4\n",
    "sub_mat_even(n)"
   ]
  },
  {
   "cell_type": "code",
   "execution_count": 40,
   "id": "3cafe177",
   "metadata": {},
   "outputs": [
    {
     "name": "stdout",
     "output_type": "stream",
     "text": [
      "<__main__.oops object at 0x000001ECDB844610>\n"
     ]
    }
   ],
   "source": [
    "class oops:\n",
    "    pass\n",
    "obj = oops()\n",
    "  \n",
    "print(obj)"
   ]
  },
  {
   "cell_type": "code",
   "execution_count": 41,
   "id": "d02b28d5",
   "metadata": {},
   "outputs": [
    {
     "name": "stdout",
     "output_type": "stream",
     "text": [
      "obj1 Details:\n",
      "Name: Nikhil\n",
      "Office: GeeksforGeeks\n",
      "\n",
      "obj2 Details:\n",
      "Name: Abhinav\n",
      "Office: GeeksforGeeks\n",
      "Phone: 1234567889\n"
     ]
    }
   ],
   "source": [
    "class Employee:\n",
    "    pass\n",
    "obj1 = Employee()\n",
    "obj1.name = 'Nikhil'\n",
    "obj1.office = 'GeeksforGeeks'\n",
    "obj2 = Employee()\n",
    "obj2.name = 'Abhinav'\n",
    "obj2.office = 'GeeksforGeeks'\n",
    "obj2.phone = 1234567889\n",
    "print(\"obj1 Details:\")\n",
    "print(\"Name:\", obj1.name)\n",
    "print(\"Office:\", obj1.office)\n",
    "print()\n",
    "print(\"obj2 Details:\")\n",
    "print(\"Name:\", obj2.name)\n",
    "print(\"Office:\", obj2.office)\n",
    "print(\"Phone:\", obj2.phone)"
   ]
  },
  {
   "cell_type": "code",
   "execution_count": 42,
   "id": "1c11d408",
   "metadata": {},
   "outputs": [
    {
     "name": "stdout",
     "output_type": "stream",
     "text": [
      "INDIA time: 18:22:39\n"
     ]
    }
   ],
   "source": [
    "from datetime import *\n",
    "import pytz\n",
    "  \n",
    "  \n",
    "tz_INDIA = pytz.timezone('Asia/Kolkata') \n",
    "datetime_INDIA = datetime.now(tz_INDIA)\n",
    "print(\"INDIA time:\", datetime_INDIA.strftime(\"%H:%M:%S\"))"
   ]
  },
  {
   "cell_type": "code",
   "execution_count": 43,
   "id": "cbc289ea",
   "metadata": {},
   "outputs": [
    {
     "name": "stdout",
     "output_type": "stream",
     "text": [
      "Current Time = 18:23:39\n"
     ]
    }
   ],
   "source": [
    "from datetime import datetime\n",
    "now_method = datetime.now()\n",
    "currentTime = now_method.strftime(\"%H:%M:%S\")\n",
    "print(\"Current Time =\", currentTime)"
   ]
  }
 ],
 "metadata": {
  "kernelspec": {
   "display_name": "Python 3",
   "language": "python",
   "name": "python3"
  },
  "language_info": {
   "codemirror_mode": {
    "name": "ipython",
    "version": 3
   },
   "file_extension": ".py",
   "mimetype": "text/x-python",
   "name": "python",
   "nbconvert_exporter": "python",
   "pygments_lexer": "ipython3",
   "version": "3.8.8"
  }
 },
 "nbformat": 4,
 "nbformat_minor": 5
}
