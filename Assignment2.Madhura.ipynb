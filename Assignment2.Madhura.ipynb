{
 "cells": [
  {
   "cell_type": "code",
   "execution_count": 2,
   "id": "d520273c",
   "metadata": {},
   "outputs": [],
   "source": [
    "import numpy as np"
   ]
  },
  {
   "cell_type": "code",
   "execution_count": 9,
   "id": "70e80da2",
   "metadata": {},
   "outputs": [],
   "source": [
    "data=[1,2,3]"
   ]
  },
  {
   "cell_type": "code",
   "execution_count": 10,
   "id": "0f82ca03",
   "metadata": {},
   "outputs": [
    {
     "data": {
      "text/plain": [
       "list"
      ]
     },
     "execution_count": 10,
     "metadata": {},
     "output_type": "execute_result"
    }
   ],
   "source": [
    "type(data)"
   ]
  },
  {
   "cell_type": "code",
   "execution_count": 17,
   "id": "ad95aed7",
   "metadata": {},
   "outputs": [],
   "source": [
    "arr=np.array([1,2,3,4,5])"
   ]
  },
  {
   "cell_type": "code",
   "execution_count": 18,
   "id": "f0433752",
   "metadata": {},
   "outputs": [
    {
     "data": {
      "text/plain": [
       "array([1, 2, 3, 4, 5])"
      ]
     },
     "execution_count": 18,
     "metadata": {},
     "output_type": "execute_result"
    }
   ],
   "source": [
    "arr"
   ]
  },
  {
   "cell_type": "markdown",
   "id": "8f280df6",
   "metadata": {},
   "source": [
    "# ARRAY with Zeros and Ones"
   ]
  },
  {
   "cell_type": "code",
   "execution_count": 2,
   "id": "22057997",
   "metadata": {},
   "outputs": [],
   "source": [
    "a=np.zeros(3, dtype=int)"
   ]
  },
  {
   "cell_type": "code",
   "execution_count": 3,
   "id": "1c3885f5",
   "metadata": {},
   "outputs": [],
   "source": [
    "b=np.zeros([3,3], dtype=int)"
   ]
  },
  {
   "cell_type": "code",
   "execution_count": 4,
   "id": "7a46c074",
   "metadata": {},
   "outputs": [
    {
     "name": "stdout",
     "output_type": "stream",
     "text": [
      "Matrix a: \n",
      " [0 0 0]\n",
      "\n",
      "Matrix b: \n",
      " [[0 0 0]\n",
      " [0 0 0]\n",
      " [0 0 0]]\n"
     ]
    }
   ],
   "source": [
    "print(\"Matrix a: \\n\",a)\n",
    "print(\"\\nMatrix b: \\n\",b)"
   ]
  },
  {
   "cell_type": "code",
   "execution_count": 5,
   "id": "4d2f1a04",
   "metadata": {},
   "outputs": [
    {
     "name": "stdout",
     "output_type": "stream",
     "text": [
      "\n",
      "Matrix c: \n",
      " [[0 0 0]\n",
      " [0 0 0]\n",
      " [0 0 0]\n",
      " [0 0 0]\n",
      " [0 0 0]]\n"
     ]
    }
   ],
   "source": [
    "c=np.zeros([5,3], dtype=int)\n",
    "print(\"\\nMatrix c: \\n\",c)"
   ]
  },
  {
   "cell_type": "code",
   "execution_count": 7,
   "id": "fc2929a7",
   "metadata": {},
   "outputs": [
    {
     "name": "stdout",
     "output_type": "stream",
     "text": [
      "\n",
      "Matrix d: \n",
      " [1 1 1]\n"
     ]
    }
   ],
   "source": [
    "d=np.ones(3, dtype=int)\n",
    "print(\"\\nMatrix d: \\n\",d)"
   ]
  },
  {
   "cell_type": "code",
   "execution_count": 8,
   "id": "c57c03f1",
   "metadata": {},
   "outputs": [
    {
     "name": "stdout",
     "output_type": "stream",
     "text": [
      "\n",
      "Matrix e: \n",
      " [[1 1 1 1 1]\n",
      " [1 1 1 1 1]\n",
      " [1 1 1 1 1]]\n"
     ]
    }
   ],
   "source": [
    "e=np.ones([3,5], dtype=int)\n",
    "print(\"\\nMatrix e: \\n\",e)"
   ]
  },
  {
   "cell_type": "code",
   "execution_count": 43,
   "id": "9c087ab0",
   "metadata": {},
   "outputs": [],
   "source": [
    "array = np.ones((4, 4))"
   ]
  },
  {
   "cell_type": "code",
   "execution_count": 44,
   "id": "160c36e5",
   "metadata": {},
   "outputs": [
    {
     "name": "stdout",
     "output_type": "stream",
     "text": [
      "Original array\n",
      "[[1. 1. 1. 1.]\n",
      " [1. 1. 1. 1.]\n",
      " [1. 1. 1. 1.]\n",
      " [1. 1. 1. 1.]]\n"
     ]
    }
   ],
   "source": [
    "print(\"Original array\")\n",
    "print(array)"
   ]
  },
  {
   "cell_type": "code",
   "execution_count": 46,
   "id": "60f5d746",
   "metadata": {},
   "outputs": [
    {
     "name": "stdout",
     "output_type": "stream",
     "text": [
      "\n",
      "0 on the border and 1 inside the array\n",
      "[[0. 0. 0. 0. 0. 0.]\n",
      " [0. 1. 1. 1. 1. 0.]\n",
      " [0. 1. 1. 1. 1. 0.]\n",
      " [0. 1. 1. 1. 1. 0.]\n",
      " [0. 1. 1. 1. 1. 0.]\n",
      " [0. 0. 0. 0. 0. 0.]]\n"
     ]
    }
   ],
   "source": [
    "print(\"\\n0 on the border and 1 inside the array\")\n",
    "array = np.pad(array, pad_width=1, mode='constant',\n",
    "               constant_values=0)\n",
    "  \n",
    "print(array)"
   ]
  },
  {
   "cell_type": "markdown",
   "id": "cfc42683",
   "metadata": {},
   "source": [
    "# Arrays"
   ]
  },
  {
   "cell_type": "code",
   "execution_count": 19,
   "id": "58eda7a8",
   "metadata": {},
   "outputs": [],
   "source": [
    "import numpy"
   ]
  },
  {
   "cell_type": "code",
   "execution_count": 20,
   "id": "d3d9127b",
   "metadata": {},
   "outputs": [],
   "source": [
    "arr = numpy.array([[1, 2, 3, 4, 5],\n",
    "                   [6, 7, 8, 9, 10],\n",
    "                   [11, 12, 13, 14, 15],\n",
    "                   [16, 17, 18, 19, 20]\n",
    "                   ])"
   ]
  },
  {
   "cell_type": "code",
   "execution_count": 21,
   "id": "62b49e6a",
   "metadata": {},
   "outputs": [
    {
     "name": "stdout",
     "output_type": "stream",
     "text": [
      "[[ 1  2  3  4  5]\n",
      " [ 6  7  8  9 10]\n",
      " [11 12 13 14 15]\n",
      " [16 17 18 19 20]]\n"
     ]
    }
   ],
   "source": [
    "print(arr)"
   ]
  },
  {
   "cell_type": "code",
   "execution_count": 22,
   "id": "51d49fee",
   "metadata": {},
   "outputs": [
    {
     "name": "stdout",
     "output_type": "stream",
     "text": [
      "True\n"
     ]
    }
   ],
   "source": [
    "print([1, 2, 3, 4, 5] in arr.tolist())"
   ]
  },
  {
   "cell_type": "code",
   "execution_count": 23,
   "id": "f72efba1",
   "metadata": {},
   "outputs": [
    {
     "name": "stdout",
     "output_type": "stream",
     "text": [
      "False\n"
     ]
    }
   ],
   "source": [
    "print([3, 2, 5, -4, 5] in arr.tolist())"
   ]
  },
  {
   "cell_type": "code",
   "execution_count": 24,
   "id": "fc73a00c",
   "metadata": {},
   "outputs": [],
   "source": [
    "n_arr = np.array([[10.5, 22.5, 3.8],\n",
    "                  [41, np.nan, np.nan]])"
   ]
  },
  {
   "cell_type": "code",
   "execution_count": 26,
   "id": "6c0ef372",
   "metadata": {},
   "outputs": [
    {
     "name": "stdout",
     "output_type": "stream",
     "text": [
      "Given array:\n",
      "[[10.5 22.5  3.8]\n",
      " [41.   nan  nan]]\n"
     ]
    }
   ],
   "source": [
    "print(\"Given array:\")\n",
    "print(n_arr)"
   ]
  },
  {
   "cell_type": "code",
   "execution_count": 27,
   "id": "b0c376aa",
   "metadata": {},
   "outputs": [
    {
     "name": "stdout",
     "output_type": "stream",
     "text": [
      "\n",
      "Remove all rows containing non-numeric elements\n",
      "[[10.5 22.5  3.8]]\n"
     ]
    }
   ],
   "source": [
    "print(\"\\nRemove all rows containing non-numeric elements\")\n",
    "print(n_arr[~np.isnan(n_arr).any(axis=1)])"
   ]
  },
  {
   "cell_type": "code",
   "execution_count": 28,
   "id": "9791c208",
   "metadata": {},
   "outputs": [],
   "source": [
    "arr = numpy.array([[2, 8, 9, 4], \n",
    "                   [9, 4, 9, 4],\n",
    "                   [4, 5, 9, 7],\n",
    "                   [2, 9, 4, 3]])"
   ]
  },
  {
   "cell_type": "code",
   "execution_count": 30,
   "id": "9aad2c0c",
   "metadata": {},
   "outputs": [
    {
     "name": "stdout",
     "output_type": "stream",
     "text": [
      "4\n"
     ]
    }
   ],
   "source": [
    "output = repr(arr).count(\"9, 4\")\n",
    "print(output)"
   ]
  },
  {
   "cell_type": "code",
   "execution_count": 31,
   "id": "a2aac8e9",
   "metadata": {},
   "outputs": [
    {
     "name": "stdout",
     "output_type": "stream",
     "text": [
      "Original array:\n",
      "[1 1 1 2 3 4 2 4 3 3]\n"
     ]
    }
   ],
   "source": [
    "x = np.array([1, 1, 1, 2, 3, 4, 2, 4, 3, 3, ])\n",
    "print(\"Original array:\")\n",
    "print(x)"
   ]
  },
  {
   "cell_type": "code",
   "execution_count": 33,
   "id": "1dc26ebc",
   "metadata": {},
   "outputs": [
    {
     "name": "stdout",
     "output_type": "stream",
     "text": [
      "Most frequent value in above array\n",
      "1 3 "
     ]
    }
   ],
   "source": [
    "print(\"Most frequent value in above array\")\n",
    "y = np.bincount(x)\n",
    "maximum = max(y)\n",
    "for i in range(len(y)):\n",
    "    if y[i] == maximum:\n",
    "        print(i, end=\" \")"
   ]
  },
  {
   "cell_type": "markdown",
   "id": "6627311c",
   "metadata": {},
   "source": [
    "# Arrange"
   ]
  },
  {
   "cell_type": "code",
   "execution_count": 34,
   "id": "d301c9d3",
   "metadata": {},
   "outputs": [
    {
     "name": "stdout",
     "output_type": "stream",
     "text": [
      "One dimensional array:\n",
      "[0 1 2 3 4]\n"
     ]
    }
   ],
   "source": [
    "num_1d = np.arange(5)\n",
    "print(\"One dimensional array:\")\n",
    "print(num_1d)"
   ]
  },
  {
   "cell_type": "code",
   "execution_count": 35,
   "id": "03d01d13",
   "metadata": {},
   "outputs": [
    {
     "name": "stdout",
     "output_type": "stream",
     "text": [
      "\n",
      "Two dimensional array:\n",
      "[[0 1 2 3 4]\n",
      " [5 6 7 8 9]]\n"
     ]
    }
   ],
   "source": [
    "num_2d = np.arange(10).reshape(2,5)\n",
    "print(\"\\nTwo dimensional array:\")\n",
    "print(num_2d)"
   ]
  },
  {
   "cell_type": "code",
   "execution_count": 36,
   "id": "50a0e9e8",
   "metadata": {},
   "outputs": [
    {
     "name": "stdout",
     "output_type": "stream",
     "text": [
      "0:0\n",
      "1:1\n",
      "2:2\n",
      "3:3\n",
      "4:4\n",
      "0:5\n",
      "1:6\n",
      "2:7\n",
      "3:8\n",
      "4:9\n"
     ]
    }
   ],
   "source": [
    "for a, b in np.nditer([num_1d, num_2d]):\n",
    "    print(\"%d:%d\" % (a, b),)"
   ]
  },
  {
   "cell_type": "code",
   "execution_count": 37,
   "id": "d1f6b569",
   "metadata": {},
   "outputs": [],
   "source": [
    "array_1 = np.array([1, 2])\n",
    "array_2 = np.array([4, 6])"
   ]
  },
  {
   "cell_type": "code",
   "execution_count": 38,
   "id": "c6e74269",
   "metadata": {},
   "outputs": [
    {
     "name": "stdout",
     "output_type": "stream",
     "text": [
      "Array-1\n",
      "[1 2]\n"
     ]
    }
   ],
   "source": [
    "print(\"Array-1\")\n",
    "print(array_1)"
   ]
  },
  {
   "cell_type": "code",
   "execution_count": 39,
   "id": "e3bfcb80",
   "metadata": {},
   "outputs": [
    {
     "name": "stdout",
     "output_type": "stream",
     "text": [
      "\n",
      "Array-2\n",
      "[4 6]\n"
     ]
    }
   ],
   "source": [
    "print(\"\\nArray-2\")\n",
    "print(array_2)"
   ]
  },
  {
   "cell_type": "code",
   "execution_count": 42,
   "id": "4ee009c3",
   "metadata": {},
   "outputs": [
    {
     "name": "stdout",
     "output_type": "stream",
     "text": [
      "\n",
      "Combine array:\n",
      "[[1 4]\n",
      " [1 6]\n",
      " [2 4]\n",
      " [2 6]]\n"
     ]
    }
   ],
   "source": [
    "comb_array = np.array(np.meshgrid(array_1, array_2)).T.reshape(-1, 2)\n",
    "print(\"\\nCombine array:\")\n",
    "print(comb_array)"
   ]
  },
  {
   "cell_type": "code",
   "execution_count": 47,
   "id": "73827b08",
   "metadata": {},
   "outputs": [],
   "source": [
    "a = np.array([101, 99, 87])\n",
    "b = np.array([897, 97, 111])"
   ]
  },
  {
   "cell_type": "code",
   "execution_count": 48,
   "id": "36978258",
   "metadata": {},
   "outputs": [
    {
     "name": "stdout",
     "output_type": "stream",
     "text": [
      "Array a:  [101  99  87]\n",
      "Array b:  [897  97 111]\n"
     ]
    }
   ],
   "source": [
    "print(\"Array a: \", a)\n",
    "print(\"Array b: \", b)"
   ]
  },
  {
   "cell_type": "code",
   "execution_count": 49,
   "id": "a44e9ce0",
   "metadata": {},
   "outputs": [
    {
     "name": "stdout",
     "output_type": "stream",
     "text": [
      "a > b\n",
      "[False  True False]\n"
     ]
    }
   ],
   "source": [
    "print(\"a > b\")\n",
    "print(np.greater(a, b))"
   ]
  },
  {
   "cell_type": "code",
   "execution_count": 50,
   "id": "68ee19cc",
   "metadata": {},
   "outputs": [
    {
     "name": "stdout",
     "output_type": "stream",
     "text": [
      "a >= b\n",
      "[False  True False]\n"
     ]
    }
   ],
   "source": [
    "print(\"a >= b\")\n",
    "print(np.greater_equal(a, b))"
   ]
  },
  {
   "cell_type": "code",
   "execution_count": 51,
   "id": "58c15e5b",
   "metadata": {},
   "outputs": [
    {
     "name": "stdout",
     "output_type": "stream",
     "text": [
      "a < b\n",
      "[ True False  True]\n"
     ]
    }
   ],
   "source": [
    "print(\"a < b\")\n",
    "print(np.less(a, b))"
   ]
  },
  {
   "cell_type": "code",
   "execution_count": 52,
   "id": "7532ed4c",
   "metadata": {},
   "outputs": [
    {
     "name": "stdout",
     "output_type": "stream",
     "text": [
      "a <= b\n",
      "[ True False  True]\n"
     ]
    }
   ],
   "source": [
    "print(\"a <= b\")\n",
    "print(np.less_equal(a, b))"
   ]
  },
  {
   "cell_type": "code",
   "execution_count": 53,
   "id": "46963d51",
   "metadata": {},
   "outputs": [],
   "source": [
    "ini_array = np.array([1, 2, 3, 6, 4, 5])"
   ]
  },
  {
   "cell_type": "code",
   "execution_count": 54,
   "id": "3847c346",
   "metadata": {},
   "outputs": [
    {
     "name": "stdout",
     "output_type": "stream",
     "text": [
      "initial array [1 2 3 6 4 5]\n"
     ]
    }
   ],
   "source": [
    "print(\"initial array\", str(ini_array))"
   ]
  },
  {
   "cell_type": "code",
   "execution_count": 55,
   "id": "7e1a6572",
   "metadata": {},
   "outputs": [
    {
     "name": "stdout",
     "output_type": "stream",
     "text": [
      "type of ini_array <class 'numpy.ndarray'>\n"
     ]
    }
   ],
   "source": [
    "print(\"type of ini_array\", type(ini_array))"
   ]
  },
  {
   "cell_type": "code",
   "execution_count": 56,
   "id": "2c131667",
   "metadata": {},
   "outputs": [],
   "source": [
    "res = ini_array[::-1]"
   ]
  },
  {
   "cell_type": "code",
   "execution_count": 59,
   "id": "ef41912a",
   "metadata": {},
   "outputs": [
    {
     "name": "stdout",
     "output_type": "stream",
     "text": [
      "final array [5 4 6 3 2 1]\n"
     ]
    }
   ],
   "source": [
    "print(\"final array\", str(res))"
   ]
  },
  {
   "cell_type": "markdown",
   "id": "b0147921",
   "metadata": {},
   "source": [
    "# Maximum and Minimum"
   ]
  },
  {
   "cell_type": "code",
   "execution_count": 66,
   "id": "d576dd18",
   "metadata": {},
   "outputs": [],
   "source": [
    "gfg = np.matrix('[64, 1; 12, 3]')"
   ]
  },
  {
   "cell_type": "code",
   "execution_count": 67,
   "id": "a50c2cdb",
   "metadata": {},
   "outputs": [
    {
     "name": "stdout",
     "output_type": "stream",
     "text": [
      "64\n"
     ]
    }
   ],
   "source": [
    "geeks = gfg.max()\n",
    "print(geeks)"
   ]
  },
  {
   "cell_type": "code",
   "execution_count": 68,
   "id": "feafe712",
   "metadata": {},
   "outputs": [],
   "source": [
    "gfg = np.matrix('[1, 2, 3; 4, 5, 6; 7, 8, -9]')"
   ]
  },
  {
   "cell_type": "code",
   "execution_count": 69,
   "id": "38443d85",
   "metadata": {},
   "outputs": [
    {
     "name": "stdout",
     "output_type": "stream",
     "text": [
      "-9\n"
     ]
    }
   ],
   "source": [
    "geeks = gfg.min()\n",
    "print(geeks)"
   ]
  },
  {
   "cell_type": "code",
   "execution_count": 70,
   "id": "6c997668",
   "metadata": {},
   "outputs": [],
   "source": [
    "gfg = np.matrix('[4, 1, 12, 3, 4, 6, 7]')"
   ]
  },
  {
   "cell_type": "code",
   "execution_count": 71,
   "id": "ddfce963",
   "metadata": {},
   "outputs": [
    {
     "name": "stdout",
     "output_type": "stream",
     "text": [
      "[[12]]\n"
     ]
    }
   ],
   "source": [
    "geek = gfg.take(2)\n",
    "print(geek)"
   ]
  },
  {
   "cell_type": "code",
   "execution_count": 72,
   "id": "9a374893",
   "metadata": {},
   "outputs": [],
   "source": [
    "gfg = np.matrix('[4, 1, 9; 12, 3, 1; 4, 5, 6]')"
   ]
  },
  {
   "cell_type": "code",
   "execution_count": 73,
   "id": "c41be64a",
   "metadata": {},
   "outputs": [
    {
     "name": "stdout",
     "output_type": "stream",
     "text": [
      "[[ 4 12  4]]\n"
     ]
    }
   ],
   "source": [
    "geek = gfg.take(0, 1)\n",
    "print(geek)"
   ]
  },
  {
   "cell_type": "markdown",
   "id": "9e428e87",
   "metadata": {},
   "source": [
    "# Operations on Matrix "
   ]
  },
  {
   "cell_type": "code",
   "execution_count": 74,
   "id": "31d339b2",
   "metadata": {},
   "outputs": [],
   "source": [
    "# addition of matrix\n",
    "ini_array = np.array([[1, 2, 3], [45, 4, 7], [9, 6, 10]])"
   ]
  },
  {
   "cell_type": "code",
   "execution_count": 75,
   "id": "1c32ecf2",
   "metadata": {},
   "outputs": [
    {
     "name": "stdout",
     "output_type": "stream",
     "text": [
      "initial_array :  [[ 1  2  3]\n",
      " [45  4  7]\n",
      " [ 9  6 10]]\n"
     ]
    }
   ],
   "source": [
    "print(\"initial_array : \", str(ini_array));"
   ]
  },
  {
   "cell_type": "code",
   "execution_count": 78,
   "id": "74cb490e",
   "metadata": {},
   "outputs": [],
   "source": [
    "column_to_be_added = np.array([1, 2, 3])"
   ]
  },
  {
   "cell_type": "code",
   "execution_count": 79,
   "id": "e6e2612a",
   "metadata": {},
   "outputs": [],
   "source": [
    "result = np.hstack((ini_array, np.atleast_2d(column_to_be_added).T))"
   ]
  },
  {
   "cell_type": "code",
   "execution_count": 80,
   "id": "efe419d1",
   "metadata": {},
   "outputs": [
    {
     "name": "stdout",
     "output_type": "stream",
     "text": [
      "resultant array [[ 1  2  3  1]\n",
      " [45  4  7  2]\n",
      " [ 9  6 10  3]]\n"
     ]
    }
   ],
   "source": [
    "print (\"resultant array\", str(result))"
   ]
  },
  {
   "cell_type": "code",
   "execution_count": 81,
   "id": "aa04d8af",
   "metadata": {},
   "outputs": [
    {
     "name": "stdout",
     "output_type": "stream",
     "text": [
      "Matrix p :\n",
      "[[1, 2], [2, 3]]\n",
      "Matrix q :\n",
      "[[4, 5], [6, 7]]\n"
     ]
    }
   ],
   "source": [
    "# matrix multiplication\n",
    "p = [[1, 2], [2, 3]]\n",
    "q = [[4, 5], [6, 7]]\n",
    "print(\"Matrix p :\")\n",
    "print(p)\n",
    "print(\"Matrix q :\")\n",
    "print(q)"
   ]
  },
  {
   "cell_type": "code",
   "execution_count": 82,
   "id": "eb962a59",
   "metadata": {},
   "outputs": [],
   "source": [
    "result = np.dot(p, q)"
   ]
  },
  {
   "cell_type": "code",
   "execution_count": 83,
   "id": "b7cc6816",
   "metadata": {},
   "outputs": [
    {
     "name": "stdout",
     "output_type": "stream",
     "text": [
      "The matrix multiplication is :\n",
      "[[16 19]\n",
      " [26 31]]\n"
     ]
    }
   ],
   "source": [
    "print(\"The matrix multiplication is :\")\n",
    "print(result)"
   ]
  },
  {
   "cell_type": "code",
   "execution_count": 84,
   "id": "05d8ee81",
   "metadata": {},
   "outputs": [],
   "source": [
    "# inverse of a matrix\n",
    "A = np.array([[6, 1, 1],\n",
    "              [4, -2, 5],\n",
    "              [2, 8, 7]])"
   ]
  },
  {
   "cell_type": "code",
   "execution_count": 85,
   "id": "cb4a357b",
   "metadata": {},
   "outputs": [
    {
     "name": "stdout",
     "output_type": "stream",
     "text": [
      "[[ 0.17647059 -0.00326797 -0.02287582]\n",
      " [ 0.05882353 -0.13071895  0.08496732]\n",
      " [-0.11764706  0.1503268   0.05228758]]\n"
     ]
    }
   ],
   "source": [
    "print(np.linalg.inv(A))"
   ]
  },
  {
   "cell_type": "code",
   "execution_count": 86,
   "id": "d956d4a9",
   "metadata": {},
   "outputs": [],
   "source": [
    "#convert matrix into list\n",
    "gfg = np.matrix('[4, 1, 9; 12, 3, 1; 4, 5, 6]')"
   ]
  },
  {
   "cell_type": "code",
   "execution_count": 87,
   "id": "77b49269",
   "metadata": {},
   "outputs": [
    {
     "name": "stdout",
     "output_type": "stream",
     "text": [
      "[[4, 1, 9], [12, 3, 1], [4, 5, 6]]\n"
     ]
    }
   ],
   "source": [
    "geek = gfg.tolist()\n",
    "print(geek)"
   ]
  },
  {
   "cell_type": "markdown",
   "id": "5912e618",
   "metadata": {},
   "source": [
    "# Indexing"
   ]
  },
  {
   "cell_type": "code",
   "execution_count": 7,
   "id": "1e477ab9",
   "metadata": {},
   "outputs": [
    {
     "name": "stdout",
     "output_type": "stream",
     "text": [
      "Given array:\n",
      "[75.42436315 42.48558583 60.32924763]\n"
     ]
    }
   ],
   "source": [
    "n_arr = np.array([75.42436315, 42.48558583, 60.32924763])\n",
    "print(\"Given array:\")\n",
    "print(n_arr)"
   ]
  },
  {
   "cell_type": "code",
   "execution_count": 4,
   "id": "42cebfbd",
   "metadata": {},
   "outputs": [
    {
     "name": "stdout",
     "output_type": "stream",
     "text": [
      "\n",
      "Replace all elements of array which are greater than 50. to 15.50\n",
      "New array :\n",
      "\n",
      "[15.5        42.48558583 15.5       ]\n"
     ]
    }
   ],
   "source": [
    "print(\"\\nReplace all elements of array which are greater than 50. to 15.50\")\n",
    "n_arr[n_arr > 50.] = 15.50\n",
    "print(\"New array :\\n\")\n",
    "print(n_arr)  "
   ]
  },
  {
   "cell_type": "code",
   "execution_count": 8,
   "id": "a632c2cd",
   "metadata": {},
   "outputs": [
    {
     "data": {
      "text/plain": [
       "array([[1, 6],\n",
       "       [3, 4]])"
      ]
     },
     "execution_count": 8,
     "metadata": {},
     "output_type": "execute_result"
    }
   ],
   "source": [
    "np.where([[True, False], [True, True]],\n",
    "         [[1, 2], [3, 4]], [[5, 6], [7, 8]])"
   ]
  },
  {
   "cell_type": "code",
   "execution_count": 10,
   "id": "5d52d9e8",
   "metadata": {},
   "outputs": [
    {
     "name": "stdout",
     "output_type": "stream",
     "text": [
      "initial array [[1.3 2.5 3.6 nan]\n",
      " [2.6 3.3 nan 5.5]\n",
      " [2.1 3.2 5.4 6.5]]\n"
     ]
    }
   ],
   "source": [
    "ini_array = np.array([[1.3, 2.5, 3.6, np.nan], \n",
    "                      [2.6, 3.3, np.nan, 5.5],\n",
    "                      [2.1, 3.2, 5.4, 6.5]])\n",
    "print (\"initial array\", ini_array)"
   ]
  },
  {
   "cell_type": "code",
   "execution_count": 11,
   "id": "65afe14e",
   "metadata": {},
   "outputs": [
    {
     "name": "stdout",
     "output_type": "stream",
     "text": [
      "columns mean [2.  3.  4.5 6. ]\n"
     ]
    }
   ],
   "source": [
    "col_mean = np.nanmean(ini_array, axis = 0)\n",
    "print (\"columns mean\", str(col_mean))"
   ]
  },
  {
   "cell_type": "code",
   "execution_count": 12,
   "id": "ef361b75",
   "metadata": {},
   "outputs": [],
   "source": [
    "inds = np.where(np.isnan(ini_array))\n",
    "ini_array[inds] = np.take(col_mean, inds[1])"
   ]
  },
  {
   "cell_type": "code",
   "execution_count": 13,
   "id": "f856da43",
   "metadata": {},
   "outputs": [
    {
     "name": "stdout",
     "output_type": "stream",
     "text": [
      "final array [[1.3 2.5 3.6 6. ]\n",
      " [2.6 3.3 4.5 5.5]\n",
      " [2.1 3.2 5.4 6.5]]\n"
     ]
    }
   ],
   "source": [
    "print (\"final array\", ini_array)"
   ]
  },
  {
   "cell_type": "code",
   "execution_count": 14,
   "id": "c8e32cd6",
   "metadata": {},
   "outputs": [
    {
     "name": "stdout",
     "output_type": "stream",
     "text": [
      "initial array [ 1  2 -3  4 -5 -6]\n"
     ]
    }
   ],
   "source": [
    "ini_array1 = np.array([1, 2, -3, 4, -5, -6])\n",
    "print(\"initial array\", ini_array1)"
   ]
  },
  {
   "cell_type": "code",
   "execution_count": 15,
   "id": "6af6db27",
   "metadata": {},
   "outputs": [
    {
     "name": "stdout",
     "output_type": "stream",
     "text": [
      "New resulting array:  [1 2 0 4 0 0]\n"
     ]
    }
   ],
   "source": [
    "ini_array1[ini_array1<0] = 0\n",
    "print(\"New resulting array: \", ini_array1)"
   ]
  },
  {
   "cell_type": "code",
   "execution_count": 16,
   "id": "49605931",
   "metadata": {},
   "outputs": [
    {
     "name": "stdout",
     "output_type": "stream",
     "text": [
      "Array 1 :\n",
      "[11 10 22 30 33]\n"
     ]
    }
   ],
   "source": [
    "a1 = np.array([11, 10, 22, 30, 33])\n",
    "print(\"Array 1 :\")\n",
    "print(a1)"
   ]
  },
  {
   "cell_type": "code",
   "execution_count": 17,
   "id": "c2828e9c",
   "metadata": {},
   "outputs": [
    {
     "name": "stdout",
     "output_type": "stream",
     "text": [
      "Array 2 :\n",
      "[ 1 15 60]\n"
     ]
    }
   ],
   "source": [
    "a2 = np.array([1, 15, 60])\n",
    "print(\"Array 2 :\")\n",
    "print(a2)"
   ]
  },
  {
   "cell_type": "code",
   "execution_count": 18,
   "id": "d2512d1b",
   "metadata": {},
   "outputs": [
    {
     "name": "stdout",
     "output_type": "stream",
     "text": [
      "\n",
      "Take 1 and 15 from Array 2 and put them in1st and 5th position of Array 1\n",
      "Resultant Array :\n",
      "[ 1 10 22 30 15]\n"
     ]
    }
   ],
   "source": [
    "print(\"\\nTake 1 and 15 from Array 2 and put them in\\\n",
    "1st and 5th position of Array 1\")  \n",
    "a1.put([0, 4], a2)\n",
    "print(\"Resultant Array :\")\n",
    "print(a1)"
   ]
  },
  {
   "cell_type": "code",
   "execution_count": 19,
   "id": "39b3c179",
   "metadata": {},
   "outputs": [
    {
     "name": "stdout",
     "output_type": "stream",
     "text": [
      "[ True False  True False  True]\n"
     ]
    }
   ],
   "source": [
    "gfg1 = np.array([1, 2, 3, 4, 5])\n",
    "lis = [1, 3, 5]\n",
    "gfg = np.isin(gfg1, lis)\n",
    "print(gfg)"
   ]
  },
  {
   "cell_type": "code",
   "execution_count": 20,
   "id": "b37eb027",
   "metadata": {},
   "outputs": [],
   "source": [
    "gfg1 = np.array([1, 2, 3])\n",
    "gfg2 = np.array([4, 5, 6])"
   ]
  },
  {
   "cell_type": "code",
   "execution_count": 21,
   "id": "282fc8ed",
   "metadata": {},
   "outputs": [
    {
     "name": "stdout",
     "output_type": "stream",
     "text": [
      "[[[1 4]\n",
      "  [2 5]\n",
      "  [3 6]]]\n"
     ]
    }
   ],
   "source": [
    "print(np.dstack((gfg1, gfg2)))"
   ]
  },
  {
   "cell_type": "markdown",
   "id": "f485df5f",
   "metadata": {},
   "source": [
    "# Random"
   ]
  },
  {
   "cell_type": "code",
   "execution_count": 27,
   "id": "054809f3",
   "metadata": {},
   "outputs": [
    {
     "name": "stdout",
     "output_type": "stream",
     "text": [
      "Matrix x : \n",
      " [0 0]\n",
      "\n",
      "Matrix y : \n",
      " [[3 0]\n",
      " [2 0]]\n"
     ]
    }
   ],
   "source": [
    "#numpy array with random values\n",
    "x = np.empty(2, dtype = int) \n",
    "print(\"Matrix x : \\n\", x) \n",
    "y = np.empty([2, 2], dtype = int) \n",
    "print(\"\\nMatrix y : \\n\", y) "
   ]
  },
  {
   "cell_type": "code",
   "execution_count": 32,
   "id": "102ed24f",
   "metadata": {},
   "outputs": [
    {
     "data": {
      "text/plain": [
       "array([0.3271747 , 0.73056922])"
      ]
     },
     "execution_count": 32,
     "metadata": {},
     "output_type": "execute_result"
    }
   ],
   "source": [
    "np.random.rand(2)"
   ]
  },
  {
   "cell_type": "code",
   "execution_count": 34,
   "id": "8f3e7cda",
   "metadata": {},
   "outputs": [
    {
     "name": "stdout",
     "output_type": "stream",
     "text": [
      "[300, 500, 200, 500, 500]\n"
     ]
    }
   ],
   "source": [
    "import random\n",
    "sampleList = [100, 200, 300, 400, 500]\n",
    "randomList = random.choices(\n",
    "    sampleList, weights=(10, 20, 30, 40, 50), k=5)\n",
    "print(randomList)"
   ]
  },
  {
   "cell_type": "code",
   "execution_count": 37,
   "id": "3771045e",
   "metadata": {},
   "outputs": [
    {
     "name": "stdout",
     "output_type": "stream",
     "text": [
      "Output matrix :  [[0.83686329 0.00803962 0.15611178 0.17069949]\n",
      " [0.40518989 0.45812958 0.66917027 0.42147707]\n",
      " [0.84100591 0.78009372 0.84880026 0.37241417]]\n"
     ]
    }
   ],
   "source": [
    "import numpy.matlib\n",
    "out_mat = np.matlib.rand((3, 4)) \n",
    "print (\"Output matrix : \", out_mat) "
   ]
  },
  {
   "cell_type": "code",
   "execution_count": 38,
   "id": "8cf78ca4",
   "metadata": {},
   "outputs": [
    {
     "data": {
      "text/plain": [
       "14"
      ]
     },
     "execution_count": 38,
     "metadata": {},
     "output_type": "execute_result"
    }
   ],
   "source": [
    "np.random.randint(2,25)"
   ]
  }
 ],
 "metadata": {
  "kernelspec": {
   "display_name": "Python 3",
   "language": "python",
   "name": "python3"
  },
  "language_info": {
   "codemirror_mode": {
    "name": "ipython",
    "version": 3
   },
   "file_extension": ".py",
   "mimetype": "text/x-python",
   "name": "python",
   "nbconvert_exporter": "python",
   "pygments_lexer": "ipython3",
   "version": "3.8.8"
  }
 },
 "nbformat": 4,
 "nbformat_minor": 5
}
